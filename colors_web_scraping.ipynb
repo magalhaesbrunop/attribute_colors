{
  "nbformat": 4,
  "nbformat_minor": 0,
  "metadata": {
    "colab": {
      "name": "colors_web_scraping.ipynb",
      "provenance": [],
      "collapsed_sections": [],
      "mount_file_id": "1FEh87qbWiG97EE1Z_j_gsYdyeToNq7fs",
      "authorship_tag": "ABX9TyNJIMMb4rPChj8CmkDSJ8jn",
      "include_colab_link": true
    },
    "kernelspec": {
      "name": "python3",
      "display_name": "Python 3"
    },
    "language_info": {
      "name": "python"
    }
  },
  "cells": [
    {
      "cell_type": "markdown",
      "metadata": {
        "id": "view-in-github",
        "colab_type": "text"
      },
      "source": [
        "<a href=\"https://colab.research.google.com/github/magalhaesbrunop/attribute_colors/blob/main/colors_web_scraping.ipynb\" target=\"_parent\"><img src=\"https://colab.research.google.com/assets/colab-badge.svg\" alt=\"Open In Colab\"/></a>"
      ]
    },
    {
      "cell_type": "code",
      "source": [
        "from bs4 import BeautifulSoup\n",
        "import requests\n",
        "import re"
      ],
      "metadata": {
        "id": "crq8pJAT1lXU"
      },
      "execution_count": 1,
      "outputs": []
    },
    {
      "cell_type": "code",
      "execution_count": 2,
      "metadata": {
        "id": "ltQxgWu_sfer"
      },
      "outputs": [],
      "source": [
        "data = requests.get(\"https://celke.com.br/artigo/tabela-de-cores-html-nome-hexadecimal-rgb\")"
      ]
    },
    {
      "cell_type": "code",
      "source": [
        "content = data.text"
      ],
      "metadata": {
        "id": "0OpeLMmrIJip"
      },
      "execution_count": 3,
      "outputs": []
    },
    {
      "cell_type": "code",
      "source": [
        "soup = BeautifulSoup(content, \"html.parser\")"
      ],
      "metadata": {
        "id": "Pj64ZM5kG8sf"
      },
      "execution_count": null,
      "outputs": []
    },
    {
      "cell_type": "code",
      "source": [
        "colors = re.findall(r\"([\\>\\w\\<]\\w+)\", soup.text)"
      ],
      "metadata": {
        "id": "Lm4Eg5uRMEVj"
      },
      "execution_count": 5,
      "outputs": []
    },
    {
      "cell_type": "code",
      "source": [
        "colors = colors[181:965]"
      ],
      "metadata": {
        "id": "E2Bsjam91mRE"
      },
      "execution_count": 6,
      "outputs": []
    },
    {
      "cell_type": "code",
      "source": [
        "column_attribute_colors = []\n",
        "for color in colors:\n",
        "  if color != color.isalnum():\n",
        "    column_attribute_colors.append(color)\n"
      ],
      "metadata": {
        "id": "Y2AkfgKO4thN"
      },
      "execution_count": 7,
      "outputs": []
    },
    {
      "cell_type": "code",
      "source": [
        "column_attribute_colors[:20]"
      ],
      "metadata": {
        "colab": {
          "base_uri": "https://localhost:8080/"
        },
        "id": "CqmT83-wDBUB",
        "outputId": "ff965e45-ec37-47d0-9851-cbd813b5da79"
      },
      "execution_count": 9,
      "outputs": [
        {
          "output_type": "execute_result",
          "data": {
            "text/plain": [
              "['Black',\n",
              " '000000',\n",
              " 'grey11',\n",
              " '1C1C1C',\n",
              " '28',\n",
              " '28',\n",
              " '28',\n",
              " 'grey21',\n",
              " '363636',\n",
              " '54',\n",
              " '54',\n",
              " '54',\n",
              " 'grey31',\n",
              " '4F4F4F',\n",
              " '79',\n",
              " '79',\n",
              " '79',\n",
              " 'DimGray',\n",
              " '696969',\n",
              " '105']"
            ]
          },
          "metadata": {},
          "execution_count": 9
        }
      ]
    },
    {
      "cell_type": "code",
      "source": [
        ""
      ],
      "metadata": {
        "id": "ulkUcVPEDB1_"
      },
      "execution_count": 8,
      "outputs": []
    }
  ]
}