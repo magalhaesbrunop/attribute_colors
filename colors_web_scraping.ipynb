{
  "nbformat": 4,
  "nbformat_minor": 0,
  "metadata": {
    "colab": {
      "name": "colors_web_scraping.ipynb",
      "provenance": [],
      "collapsed_sections": [],
      "mount_file_id": "1bQMWTdMHWGrHV75kt4wOIuFGEY4iEQRl",
      "authorship_tag": "ABX9TyM5ZIX+5AvsX7WYM2EFdZRa",
      "include_colab_link": true
    },
    "kernelspec": {
      "name": "python3",
      "display_name": "Python 3"
    },
    "language_info": {
      "name": "python"
    }
  },
  "cells": [
    {
      "cell_type": "markdown",
      "metadata": {
        "id": "view-in-github",
        "colab_type": "text"
      },
      "source": [
        "<a href=\"https://colab.research.google.com/github/magalhaesbrunop/attribute_colors/blob/main/colors_web_scraping.ipynb\" target=\"_parent\"><img src=\"https://colab.research.google.com/assets/colab-badge.svg\" alt=\"Open In Colab\"/></a>"
      ]
    },
    {
      "cell_type": "code",
      "source": [
        "from google.colab import drive\n",
        "drive.mount('/content/drive')"
      ],
      "metadata": {
        "colab": {
          "base_uri": "https://localhost:8080/"
        },
        "id": "wPc2Az0k3X0e",
        "outputId": "91c24bc7-2beb-46ed-e20f-4b94b1421fd2"
      },
      "execution_count": 53,
      "outputs": [
        {
          "output_type": "stream",
          "name": "stdout",
          "text": [
            "Drive already mounted at /content/drive; to attempt to forcibly remount, call drive.mount(\"/content/drive\", force_remount=True).\n"
          ]
        }
      ]
    },
    {
      "cell_type": "code",
      "source": [
        "from bs4 import BeautifulSoup\n",
        "import requests\n",
        "import re\n",
        "\n",
        "import pandas as pd"
      ],
      "metadata": {
        "id": "crq8pJAT1lXU"
      },
      "execution_count": null,
      "outputs": []
    },
    {
      "cell_type": "code",
      "source": [
        "COLUMN_COLOR_PATH = \"/content/drive/MyDrive/Colab Notebooks/attribute_colors.txt\""
      ],
      "metadata": {
        "id": "0eeoZQglyVPN"
      },
      "execution_count": 57,
      "outputs": []
    },
    {
      "cell_type": "code",
      "execution_count": null,
      "metadata": {
        "id": "ltQxgWu_sfer"
      },
      "outputs": [],
      "source": [
        "data = requests.get(\"https://celke.com.br/artigo/tabela-de-cores-html-nome-hexadecimal-rgb\")"
      ]
    },
    {
      "cell_type": "code",
      "source": [
        "content = data.text"
      ],
      "metadata": {
        "id": "0OpeLMmrIJip"
      },
      "execution_count": null,
      "outputs": []
    },
    {
      "cell_type": "code",
      "source": [
        "soup = BeautifulSoup(content, \"html.parser\")"
      ],
      "metadata": {
        "id": "Pj64ZM5kG8sf"
      },
      "execution_count": null,
      "outputs": []
    },
    {
      "cell_type": "code",
      "source": [
        "colors = re.findall(r\"([\\>\\w\\<]\\w+)\", soup.text)"
      ],
      "metadata": {
        "id": "Lm4Eg5uRMEVj"
      },
      "execution_count": null,
      "outputs": []
    },
    {
      "cell_type": "code",
      "source": [
        "colors = colors[181:965]"
      ],
      "metadata": {
        "id": "E2Bsjam91mRE"
      },
      "execution_count": null,
      "outputs": []
    },
    {
      "cell_type": "code",
      "source": [
        "column_attribute_colors = []\n",
        "for color in colors:\n",
        "    column_attribute_colors.append(color)\n"
      ],
      "metadata": {
        "id": "Y2AkfgKO4thN"
      },
      "execution_count": null,
      "outputs": []
    },
    {
      "cell_type": "code",
      "source": [
        "regex = '^([A-Fa-f0-9]{6}|[A-Fa-f0-9]{3})$'\n",
        "pattern = re.compile(regex)"
      ],
      "metadata": {
        "id": "yzDrleX7h0ij"
      },
      "execution_count": null,
      "outputs": []
    },
    {
      "cell_type": "code",
      "source": [
        "filtered_column_attribute_colors = []\n",
        "\n",
        "for color in column_attribute_colors:\n",
        "  if re.search(pattern, color):\n",
        "    column_attribute_colors.remove(color)\n",
        "    #print(color)"
      ],
      "metadata": {
        "id": "Jqx7GA3Ul1KJ"
      },
      "execution_count": null,
      "outputs": []
    },
    {
      "cell_type": "code",
      "source": [
        "for color in column_attribute_colors:\n",
        "  if color.isnumeric() == False:\n",
        "    filtered_column_attribute_colors.append(color)"
      ],
      "metadata": {
        "id": "Yv1LgEMOpJn1"
      },
      "execution_count": null,
      "outputs": []
    },
    {
      "cell_type": "code",
      "source": [
        "filtered_column_attribute_colors = [word for word in filtered_column_attribute_colors if word != \"RGB\" and word != \"Nome\" and word != \"Color\" and word != \"de\" and word != \"da\" and word != \"Código\"\n",
        " and word != \"hexadecimal\" and word != \"Colors\" and word != \"Cor\"]"
      ],
      "metadata": {
        "id": "Gw9IqIqdYm8e"
      },
      "execution_count": null,
      "outputs": []
    },
    {
      "cell_type": "code",
      "source": [
        "filtered_column_attribute_colors = pd.DataFrame(filtered_column_attribute_colors)\n"
      ],
      "metadata": {
        "id": "cQgDv7j7u2X_"
      },
      "execution_count": null,
      "outputs": []
    },
    {
      "cell_type": "code",
      "source": [
        "filtered_column_attribute_colors.to_csv(COLUMN_COLOR_PATH)"
      ],
      "metadata": {
        "id": "8rN0ci-4wBeT"
      },
      "execution_count": 58,
      "outputs": []
    }
  ]
}